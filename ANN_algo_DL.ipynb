{
  "nbformat": 4,
  "nbformat_minor": 0,
  "metadata": {
    "colab": {
      "name": "ANN algo DL.ipynb",
      "provenance": [],
      "collapsed_sections": [],
      "authorship_tag": "ABX9TyMok24O/fAdfoUOsowb7drk",
      "include_colab_link": true
    },
    "kernelspec": {
      "name": "python3",
      "display_name": "Python 3"
    },
    "language_info": {
      "name": "python"
    }
  },
  "cells": [
    {
      "cell_type": "markdown",
      "metadata": {
        "id": "view-in-github",
        "colab_type": "text"
      },
      "source": [
        "<a href=\"https://colab.research.google.com/github/mohit-singh4180/-ecommerce_microServices/blob/master/ANN_algo_DL.ipynb\" target=\"_parent\"><img src=\"https://colab.research.google.com/assets/colab-badge.svg\" alt=\"Open In Colab\"/></a>"
      ]
    },
    {
      "cell_type": "code",
      "execution_count": 1,
      "metadata": {
        "colab": {
          "base_uri": "https://localhost:8080/"
        },
        "id": "WbT4c9xVv2fU",
        "outputId": "7f7444f2-f380-461e-a914-05a7ea65235c"
      },
      "outputs": [
        {
          "output_type": "execute_result",
          "data": {
            "text/plain": [
              "<module 'tensorflow._api.v2.version' from '/usr/local/lib/python3.7/dist-packages/tensorflow/_api/v2/version/__init__.py'>"
            ]
          },
          "metadata": {},
          "execution_count": 1
        }
      ],
      "source": [
        "import tensorflow as tf\n",
        "tf.version"
      ]
    },
    {
      "cell_type": "code",
      "source": [
        "import numpy as np\n",
        "import matplotlib.pyplot as plt\n",
        "import pandas as pd\n",
        "\n",
        "dataset=pd.read_csv('reg.csv')\n"
      ],
      "metadata": {
        "id": "f0ZP_Khn0KV6"
      },
      "execution_count": 2,
      "outputs": []
    },
    {
      "cell_type": "code",
      "source": [
        "dataset.head()\n"
      ],
      "metadata": {
        "colab": {
          "base_uri": "https://localhost:8080/",
          "height": 206
        },
        "id": "UQsrew17v7GE",
        "outputId": "67363a1f-46a0-4f8e-c57c-5c038ec35d4c"
      },
      "execution_count": 3,
      "outputs": [
        {
          "output_type": "execute_result",
          "data": {
            "text/html": [
              "<div>\n",
              "<style scoped>\n",
              "    .dataframe tbody tr th:only-of-type {\n",
              "        vertical-align: middle;\n",
              "    }\n",
              "\n",
              "    .dataframe tbody tr th {\n",
              "        vertical-align: top;\n",
              "    }\n",
              "\n",
              "    .dataframe thead th {\n",
              "        text-align: right;\n",
              "    }\n",
              "</style>\n",
              "<table border=\"1\" class=\"dataframe\">\n",
              "  <thead>\n",
              "    <tr style=\"text-align: right;\">\n",
              "      <th></th>\n",
              "      <th>price</th>\n",
              "      <th>feature1</th>\n",
              "      <th>feature2</th>\n",
              "    </tr>\n",
              "  </thead>\n",
              "  <tbody>\n",
              "    <tr>\n",
              "      <th>0</th>\n",
              "      <td>461.527929</td>\n",
              "      <td>999.787558</td>\n",
              "      <td>999.766096</td>\n",
              "    </tr>\n",
              "    <tr>\n",
              "      <th>1</th>\n",
              "      <td>548.130011</td>\n",
              "      <td>998.861615</td>\n",
              "      <td>1001.042403</td>\n",
              "    </tr>\n",
              "    <tr>\n",
              "      <th>2</th>\n",
              "      <td>410.297162</td>\n",
              "      <td>1000.070267</td>\n",
              "      <td>998.844015</td>\n",
              "    </tr>\n",
              "    <tr>\n",
              "      <th>3</th>\n",
              "      <td>540.382220</td>\n",
              "      <td>999.952251</td>\n",
              "      <td>1000.440940</td>\n",
              "    </tr>\n",
              "    <tr>\n",
              "      <th>4</th>\n",
              "      <td>546.024553</td>\n",
              "      <td>1000.446011</td>\n",
              "      <td>1000.338531</td>\n",
              "    </tr>\n",
              "  </tbody>\n",
              "</table>\n",
              "</div>"
            ],
            "text/plain": [
              "        price     feature1     feature2\n",
              "0  461.527929   999.787558   999.766096\n",
              "1  548.130011   998.861615  1001.042403\n",
              "2  410.297162  1000.070267   998.844015\n",
              "3  540.382220   999.952251  1000.440940\n",
              "4  546.024553  1000.446011  1000.338531"
            ]
          },
          "metadata": {},
          "execution_count": 3
        }
      ]
    },
    {
      "cell_type": "code",
      "source": [
        ""
      ],
      "metadata": {
        "id": "pST_UdsaEFkD"
      },
      "execution_count": 3,
      "outputs": []
    },
    {
      "cell_type": "code",
      "source": [
        "dataset=dataset[[\"feature1\",\"feature2\",\"price\"]]"
      ],
      "metadata": {
        "id": "VSfC3XWE0auT"
      },
      "execution_count": 4,
      "outputs": []
    },
    {
      "cell_type": "code",
      "source": [
        "dataset"
      ],
      "metadata": {
        "colab": {
          "base_uri": "https://localhost:8080/",
          "height": 423
        },
        "id": "AQqH1Igi0pXP",
        "outputId": "8e11479d-bfb4-458a-d710-ab03553111a2"
      },
      "execution_count": 5,
      "outputs": [
        {
          "output_type": "execute_result",
          "data": {
            "text/html": [
              "<div>\n",
              "<style scoped>\n",
              "    .dataframe tbody tr th:only-of-type {\n",
              "        vertical-align: middle;\n",
              "    }\n",
              "\n",
              "    .dataframe tbody tr th {\n",
              "        vertical-align: top;\n",
              "    }\n",
              "\n",
              "    .dataframe thead th {\n",
              "        text-align: right;\n",
              "    }\n",
              "</style>\n",
              "<table border=\"1\" class=\"dataframe\">\n",
              "  <thead>\n",
              "    <tr style=\"text-align: right;\">\n",
              "      <th></th>\n",
              "      <th>feature1</th>\n",
              "      <th>feature2</th>\n",
              "      <th>price</th>\n",
              "    </tr>\n",
              "  </thead>\n",
              "  <tbody>\n",
              "    <tr>\n",
              "      <th>0</th>\n",
              "      <td>999.787558</td>\n",
              "      <td>999.766096</td>\n",
              "      <td>461.527929</td>\n",
              "    </tr>\n",
              "    <tr>\n",
              "      <th>1</th>\n",
              "      <td>998.861615</td>\n",
              "      <td>1001.042403</td>\n",
              "      <td>548.130011</td>\n",
              "    </tr>\n",
              "    <tr>\n",
              "      <th>2</th>\n",
              "      <td>1000.070267</td>\n",
              "      <td>998.844015</td>\n",
              "      <td>410.297162</td>\n",
              "    </tr>\n",
              "    <tr>\n",
              "      <th>3</th>\n",
              "      <td>999.952251</td>\n",
              "      <td>1000.440940</td>\n",
              "      <td>540.382220</td>\n",
              "    </tr>\n",
              "    <tr>\n",
              "      <th>4</th>\n",
              "      <td>1000.446011</td>\n",
              "      <td>1000.338531</td>\n",
              "      <td>546.024553</td>\n",
              "    </tr>\n",
              "    <tr>\n",
              "      <th>...</th>\n",
              "      <td>...</td>\n",
              "      <td>...</td>\n",
              "      <td>...</td>\n",
              "    </tr>\n",
              "    <tr>\n",
              "      <th>995</th>\n",
              "      <td>1000.018988</td>\n",
              "      <td>999.672732</td>\n",
              "      <td>476.526078</td>\n",
              "    </tr>\n",
              "    <tr>\n",
              "      <th>996</th>\n",
              "      <td>998.855379</td>\n",
              "      <td>1000.020026</td>\n",
              "      <td>457.313186</td>\n",
              "    </tr>\n",
              "    <tr>\n",
              "      <th>997</th>\n",
              "      <td>1001.451646</td>\n",
              "      <td>998.847606</td>\n",
              "      <td>456.720992</td>\n",
              "    </tr>\n",
              "    <tr>\n",
              "      <th>998</th>\n",
              "      <td>1000.771023</td>\n",
              "      <td>998.562851</td>\n",
              "      <td>403.315576</td>\n",
              "    </tr>\n",
              "    <tr>\n",
              "      <th>999</th>\n",
              "      <td>999.232244</td>\n",
              "      <td>1001.451407</td>\n",
              "      <td>599.367093</td>\n",
              "    </tr>\n",
              "  </tbody>\n",
              "</table>\n",
              "<p>1000 rows × 3 columns</p>\n",
              "</div>"
            ],
            "text/plain": [
              "        feature1     feature2       price\n",
              "0     999.787558   999.766096  461.527929\n",
              "1     998.861615  1001.042403  548.130011\n",
              "2    1000.070267   998.844015  410.297162\n",
              "3     999.952251  1000.440940  540.382220\n",
              "4    1000.446011  1000.338531  546.024553\n",
              "..           ...          ...         ...\n",
              "995  1000.018988   999.672732  476.526078\n",
              "996   998.855379  1000.020026  457.313186\n",
              "997  1001.451646   998.847606  456.720992\n",
              "998  1000.771023   998.562851  403.315576\n",
              "999   999.232244  1001.451407  599.367093\n",
              "\n",
              "[1000 rows x 3 columns]"
            ]
          },
          "metadata": {},
          "execution_count": 5
        }
      ]
    },
    {
      "cell_type": "code",
      "source": [
        "X=dataset.iloc[:,:-1].values\n",
        "y=dataset.iloc[:,-1].values\n"
      ],
      "metadata": {
        "id": "27Qkp6lZ0u52"
      },
      "execution_count": 6,
      "outputs": []
    },
    {
      "cell_type": "code",
      "source": [
        "from sklearn.preprocessing import MinMaxScaler\n",
        "scaler=MinMaxScaler()\n",
        "scaler.fit(X)\n",
        "x_scaled=scaler.transform(X)\n",
        "x_scaled"
      ],
      "metadata": {
        "colab": {
          "base_uri": "https://localhost:8080/"
        },
        "id": "vP7d-WL50yxR",
        "outputId": "d67f0099-d975-4520-a00d-dc2566edd601"
      },
      "execution_count": 7,
      "outputs": [
        {
          "output_type": "execute_result",
          "data": {
            "text/plain": [
              "array([[0.44380388, 0.4885581 ],\n",
              "       [0.29323398, 0.71363026],\n",
              "       [0.48977598, 0.32595231],\n",
              "       ...,\n",
              "       [0.7144056 , 0.32658556],\n",
              "       [0.60372768, 0.27637009],\n",
              "       [0.35350286, 0.78575664]])"
            ]
          },
          "metadata": {},
          "execution_count": 7
        }
      ]
    },
    {
      "cell_type": "code",
      "source": [
        "from sklearn.model_selection import train_test_split\n",
        "X_train, X_test, y_train, y_test = train_test_split(x_scaled, y, test_size = 0.2, random_state = 0)\n"
      ],
      "metadata": {
        "id": "zZvt_4KY1G1h"
      },
      "execution_count": 8,
      "outputs": []
    },
    {
      "cell_type": "code",
      "source": [
        "X_train.shape"
      ],
      "metadata": {
        "colab": {
          "base_uri": "https://localhost:8080/"
        },
        "id": "NEqScGFz1WKp",
        "outputId": "ee9dc2e2-5961-4165-aa76-fae9b7c148b8"
      },
      "execution_count": 9,
      "outputs": [
        {
          "output_type": "execute_result",
          "data": {
            "text/plain": [
              "(800, 2)"
            ]
          },
          "metadata": {},
          "execution_count": 9
        }
      ]
    },
    {
      "cell_type": "code",
      "source": [
        "X_test.shape"
      ],
      "metadata": {
        "colab": {
          "base_uri": "https://localhost:8080/"
        },
        "id": "Uw5Vdaa01aTB",
        "outputId": "6310c71c-f0df-43c9-f121-b6a84708588a"
      },
      "execution_count": 10,
      "outputs": [
        {
          "output_type": "execute_result",
          "data": {
            "text/plain": [
              "(200, 2)"
            ]
          },
          "metadata": {},
          "execution_count": 10
        }
      ]
    },
    {
      "cell_type": "markdown",
      "source": [
        "**Creating artificial neural network ANN**"
      ],
      "metadata": {
        "id": "--WGw05l1mxk"
      }
    },
    {
      "cell_type": "markdown",
      "source": [
        "\n",
        "**1st way to create ANN model**"
      ],
      "metadata": {
        "id": "c0d5HTYf7aZa"
      }
    },
    {
      "cell_type": "code",
      "source": [
        "from tensorflow.python.keras.layers.core import Activation\n",
        "from tensorflow.keras.models import Sequential\n",
        "from tensorflow.keras.layers import Dense\n",
        "### If we have 3 layer pass 3 arguments and so on\n",
        "## we use relu if activation layer are hidden layers\n",
        "\n",
        "###model=Sequential([Dense(units= 4,activation=\"relu\") ,Dense(units= 2,activation=\"relu\"),Dense(units= 1,activation=\"relu\") ])\n",
        "##"
      ],
      "metadata": {
        "id": "yrgCbtZM1wfl"
      },
      "execution_count": 11,
      "outputs": []
    },
    {
      "cell_type": "markdown",
      "source": [
        "**2nd way to create ANN model**"
      ],
      "metadata": {
        "id": "DfGbyHs0y_af"
      }
    },
    {
      "cell_type": "code",
      "source": [
        "### constructing neural network\n",
        "\n",
        "model=Sequential()\n",
        "model.add(Dense(4,activation=\"relu\")) ### 1st hidden layer with 4 neural  and relu is activation\n",
        "model.add(Dense(2,activation=\"relu\")) ### 2nd hidden layer with 2 neural  and relu is activation\n",
        "model.add(Dense(1,activation=\"relu\")) ### 3rd hidden layer with q neural  and relu is activation\n",
        "\n",
        "from keras import optimizers\n",
        "### to optimize the weight and to reduce the weight to attain global minimum\n",
        "model.compile(optimizer=\"rmsprop\" ,loss=\"mse\")\n",
        "\n",
        "### epoch= number of time data passed\n",
        "###batch_size =1 means every epoch will be having all training data\n",
        "### if batch_size=2 then every epoch will be having 400 data \n",
        "model.fit(X_train,y_train,epochs=25,batch_size=1)\n",
        "\n",
        "\n",
        "\n"
      ],
      "metadata": {
        "colab": {
          "base_uri": "https://localhost:8080/"
        },
        "id": "akZz7b1h9iZn",
        "outputId": "113eb434-bf13-464d-9d04-7e26b9d2f5dc"
      },
      "execution_count": 12,
      "outputs": [
        {
          "output_type": "stream",
          "name": "stdout",
          "text": [
            "Epoch 1/25\n",
            "800/800 [==============================] - 4s 3ms/step - loss: 257552.4062\n",
            "Epoch 2/25\n",
            "800/800 [==============================] - 3s 4ms/step - loss: 257552.5000\n",
            "Epoch 3/25\n",
            "800/800 [==============================] - 3s 3ms/step - loss: 257552.3594\n",
            "Epoch 4/25\n",
            "800/800 [==============================] - 3s 3ms/step - loss: 257552.2656\n",
            "Epoch 5/25\n",
            "800/800 [==============================] - 3s 4ms/step - loss: 257552.3750\n",
            "Epoch 6/25\n",
            "800/800 [==============================] - 3s 4ms/step - loss: 257552.3438\n",
            "Epoch 7/25\n",
            "800/800 [==============================] - 3s 3ms/step - loss: 257552.3750\n",
            "Epoch 8/25\n",
            "800/800 [==============================] - 2s 3ms/step - loss: 257552.2969\n",
            "Epoch 9/25\n",
            "800/800 [==============================] - 3s 3ms/step - loss: 257552.4062\n",
            "Epoch 10/25\n",
            "800/800 [==============================] - 3s 4ms/step - loss: 257552.1875\n",
            "Epoch 11/25\n",
            "800/800 [==============================] - 3s 3ms/step - loss: 257552.4219\n",
            "Epoch 12/25\n",
            "800/800 [==============================] - 3s 4ms/step - loss: 257552.1875\n",
            "Epoch 13/25\n",
            "800/800 [==============================] - 2s 3ms/step - loss: 257552.4062\n",
            "Epoch 14/25\n",
            "800/800 [==============================] - 3s 3ms/step - loss: 257552.3438\n",
            "Epoch 15/25\n",
            "800/800 [==============================] - 2s 3ms/step - loss: 257552.3594\n",
            "Epoch 16/25\n",
            "800/800 [==============================] - 1s 1ms/step - loss: 257552.2969\n",
            "Epoch 17/25\n",
            "800/800 [==============================] - 1s 1ms/step - loss: 257552.4844\n",
            "Epoch 18/25\n",
            "800/800 [==============================] - 1s 2ms/step - loss: 257552.3438\n",
            "Epoch 19/25\n",
            "800/800 [==============================] - 1s 2ms/step - loss: 257552.3594\n",
            "Epoch 20/25\n",
            "800/800 [==============================] - 1s 2ms/step - loss: 257552.2969\n",
            "Epoch 21/25\n",
            "800/800 [==============================] - 1s 1ms/step - loss: 257552.4531\n",
            "Epoch 22/25\n",
            "800/800 [==============================] - 1s 1ms/step - loss: 257552.2656\n",
            "Epoch 23/25\n",
            "800/800 [==============================] - 1s 1ms/step - loss: 257552.2188\n",
            "Epoch 24/25\n",
            "800/800 [==============================] - 1s 1ms/step - loss: 257552.2969\n",
            "Epoch 25/25\n",
            "800/800 [==============================] - 1s 1ms/step - loss: 257552.4531\n"
          ]
        },
        {
          "output_type": "execute_result",
          "data": {
            "text/plain": [
              "<keras.callbacks.History at 0x7f73afcb2f10>"
            ]
          },
          "metadata": {},
          "execution_count": 12
        }
      ]
    },
    {
      "cell_type": "code",
      "source": [
        "model.history.history.keys()"
      ],
      "metadata": {
        "colab": {
          "base_uri": "https://localhost:8080/"
        },
        "id": "s4dBjOAXO9H1",
        "outputId": "8e5c8328-5a25-420d-93a0-61d85399821a"
      },
      "execution_count": 13,
      "outputs": [
        {
          "output_type": "execute_result",
          "data": {
            "text/plain": [
              "dict_keys(['loss'])"
            ]
          },
          "metadata": {},
          "execution_count": 13
        }
      ]
    },
    {
      "cell_type": "code",
      "source": [
        "###check all statistics of the neuron and weight\n",
        "model.summary()"
      ],
      "metadata": {
        "colab": {
          "base_uri": "https://localhost:8080/"
        },
        "id": "0T766O3JEHHp",
        "outputId": "60b05b44-220f-457e-97aa-64761fa38a68"
      },
      "execution_count": 14,
      "outputs": [
        {
          "output_type": "stream",
          "name": "stdout",
          "text": [
            "Model: \"sequential\"\n",
            "_________________________________________________________________\n",
            " Layer (type)                Output Shape              Param #   \n",
            "=================================================================\n",
            " dense (Dense)               (1, 4)                    12        \n",
            "                                                                 \n",
            " dense_1 (Dense)             (1, 2)                    10        \n",
            "                                                                 \n",
            " dense_2 (Dense)             (1, 1)                    3         \n",
            "                                                                 \n",
            "=================================================================\n",
            "Total params: 25\n",
            "Trainable params: 25\n",
            "Non-trainable params: 0\n",
            "_________________________________________________________________\n"
          ]
        }
      ]
    },
    {
      "cell_type": "code",
      "source": [
        ""
      ],
      "metadata": {
        "id": "fw2UweXpPyu_"
      },
      "execution_count": 14,
      "outputs": []
    },
    {
      "cell_type": "code",
      "source": [
        "model.history.history"
      ],
      "metadata": {
        "colab": {
          "base_uri": "https://localhost:8080/"
        },
        "id": "shSDxFdvKbip",
        "outputId": "ba1d4bbd-9fe0-4cdc-da18-82068ea1120f"
      },
      "execution_count": 15,
      "outputs": [
        {
          "output_type": "execute_result",
          "data": {
            "text/plain": [
              "{'loss': [257552.40625,\n",
              "  257552.5,\n",
              "  257552.359375,\n",
              "  257552.265625,\n",
              "  257552.375,\n",
              "  257552.34375,\n",
              "  257552.375,\n",
              "  257552.296875,\n",
              "  257552.40625,\n",
              "  257552.1875,\n",
              "  257552.421875,\n",
              "  257552.1875,\n",
              "  257552.40625,\n",
              "  257552.34375,\n",
              "  257552.359375,\n",
              "  257552.296875,\n",
              "  257552.484375,\n",
              "  257552.34375,\n",
              "  257552.359375,\n",
              "  257552.296875,\n",
              "  257552.453125,\n",
              "  257552.265625,\n",
              "  257552.21875,\n",
              "  257552.296875,\n",
              "  257552.453125]}"
            ]
          },
          "metadata": {},
          "execution_count": 15
        }
      ]
    },
    {
      "cell_type": "code",
      "source": [
        "model.history.history[\"loss\"]"
      ],
      "metadata": {
        "colab": {
          "base_uri": "https://localhost:8080/"
        },
        "id": "rlMMK6P9KbwX",
        "outputId": "5369b9d1-5c15-424d-db16-af5a68d979e9"
      },
      "execution_count": 16,
      "outputs": [
        {
          "output_type": "execute_result",
          "data": {
            "text/plain": [
              "[257552.40625,\n",
              " 257552.5,\n",
              " 257552.359375,\n",
              " 257552.265625,\n",
              " 257552.375,\n",
              " 257552.34375,\n",
              " 257552.375,\n",
              " 257552.296875,\n",
              " 257552.40625,\n",
              " 257552.1875,\n",
              " 257552.421875,\n",
              " 257552.1875,\n",
              " 257552.40625,\n",
              " 257552.34375,\n",
              " 257552.359375,\n",
              " 257552.296875,\n",
              " 257552.484375,\n",
              " 257552.34375,\n",
              " 257552.359375,\n",
              " 257552.296875,\n",
              " 257552.453125,\n",
              " 257552.265625,\n",
              " 257552.21875,\n",
              " 257552.296875,\n",
              " 257552.453125]"
            ]
          },
          "metadata": {},
          "execution_count": 16
        }
      ]
    },
    {
      "cell_type": "code",
      "source": [
        "plt.plot(model.history.history[\"loss\"][10:],marker=\"o\")\n",
        "plt.xlabel(\"epoch\")\n",
        "plt.ylabel(\"loss\")\n",
        "plt.show()"
      ],
      "metadata": {
        "colab": {
          "base_uri": "https://localhost:8080/",
          "height": 290
        },
        "id": "qpN6fpjqKkWa",
        "outputId": "3721610b-6468-45aa-e0b8-821db9969702"
      },
      "execution_count": 17,
      "outputs": [
        {
          "output_type": "display_data",
          "data": {
            "image/png": "[encoded data removed]",
            "text/plain": [
              "<Figure size 432x288 with 1 Axes>"
            ]
          },
          "metadata": {
            "needs_background": "light"
          }
        }
      ]
    },
    {
      "cell_type": "markdown",
      "source": [
        "***Evaluate Model***"
      ],
      "metadata": {
        "id": "HU4tDUK5MhiV"
      }
    },
    {
      "cell_type": "code",
      "source": [
        "ypred=model.predict(X_test)\n",
        "### calculate score for regression models\n",
        "from sklearn.metrics import explained_variance_score\n",
        "explained_variance_score(y_test,ypred)"
      ],
      "metadata": {
        "colab": {
          "base_uri": "https://localhost:8080/"
        },
        "id": "vFPs-gKnMmmR",
        "outputId": "ffbfff30-e28b-45f0-e217-5e7d737142cc"
      },
      "execution_count": 18,
      "outputs": [
        {
          "output_type": "execute_result",
          "data": {
            "text/plain": [
              "0.0"
            ]
          },
          "metadata": {},
          "execution_count": 18
        }
      ]
    },
    {
      "cell_type": "code",
      "source": [
        "result=pd.DataFrame(ypred,columns=[\"ypred\"])\n",
        "result[\"ytest\"]=y_test\n",
        "result[\"error\"]=result[\"ytest\"]-result[\"ypred\"]\n",
        "\n",
        "result"
      ],
      "metadata": {
        "colab": {
          "base_uri": "https://localhost:8080/",
          "height": 423
        },
        "id": "vkv08zwRNVh7",
        "outputId": "d5319194-ac1f-4abd-a713-f0e571600143"
      },
      "execution_count": 19,
      "outputs": [
        {
          "output_type": "execute_result",
          "data": {
            "text/html": [
              "<div>\n",
              "<style scoped>\n",
              "    .dataframe tbody tr th:only-of-type {\n",
              "        vertical-align: middle;\n",
              "    }\n",
              "\n",
              "    .dataframe tbody tr th {\n",
              "        vertical-align: top;\n",
              "    }\n",
              "\n",
              "    .dataframe thead th {\n",
              "        text-align: right;\n",
              "    }\n",
              "</style>\n",
              "<table border=\"1\" class=\"dataframe\">\n",
              "  <thead>\n",
              "    <tr style=\"text-align: right;\">\n",
              "      <th></th>\n",
              "      <th>ypred</th>\n",
              "      <th>ytest</th>\n",
              "      <th>error</th>\n",
              "    </tr>\n",
              "  </thead>\n",
              "  <tbody>\n",
              "    <tr>\n",
              "      <th>0</th>\n",
              "      <td>0.0</td>\n",
              "      <td>518.356144</td>\n",
              "      <td>518.356144</td>\n",
              "    </tr>\n",
              "    <tr>\n",
              "      <th>1</th>\n",
              "      <td>0.0</td>\n",
              "      <td>551.650100</td>\n",
              "      <td>551.650100</td>\n",
              "    </tr>\n",
              "    <tr>\n",
              "      <th>2</th>\n",
              "      <td>0.0</td>\n",
              "      <td>511.366708</td>\n",
              "      <td>511.366708</td>\n",
              "    </tr>\n",
              "    <tr>\n",
              "      <th>3</th>\n",
              "      <td>0.0</td>\n",
              "      <td>518.127883</td>\n",
              "      <td>518.127883</td>\n",
              "    </tr>\n",
              "    <tr>\n",
              "      <th>4</th>\n",
              "      <td>0.0</td>\n",
              "      <td>547.624043</td>\n",
              "      <td>547.624043</td>\n",
              "    </tr>\n",
              "    <tr>\n",
              "      <th>...</th>\n",
              "      <td>...</td>\n",
              "      <td>...</td>\n",
              "      <td>...</td>\n",
              "    </tr>\n",
              "    <tr>\n",
              "      <th>195</th>\n",
              "      <td>0.0</td>\n",
              "      <td>465.999806</td>\n",
              "      <td>465.999806</td>\n",
              "    </tr>\n",
              "    <tr>\n",
              "      <th>196</th>\n",
              "      <td>0.0</td>\n",
              "      <td>521.774457</td>\n",
              "      <td>521.774457</td>\n",
              "    </tr>\n",
              "    <tr>\n",
              "      <th>197</th>\n",
              "      <td>0.0</td>\n",
              "      <td>625.079386</td>\n",
              "      <td>625.079386</td>\n",
              "    </tr>\n",
              "    <tr>\n",
              "      <th>198</th>\n",
              "      <td>0.0</td>\n",
              "      <td>396.928769</td>\n",
              "      <td>396.928769</td>\n",
              "    </tr>\n",
              "    <tr>\n",
              "      <th>199</th>\n",
              "      <td>0.0</td>\n",
              "      <td>373.061907</td>\n",
              "      <td>373.061907</td>\n",
              "    </tr>\n",
              "  </tbody>\n",
              "</table>\n",
              "<p>200 rows × 3 columns</p>\n",
              "</div>"
            ],
            "text/plain": [
              "     ypred       ytest       error\n",
              "0      0.0  518.356144  518.356144\n",
              "1      0.0  551.650100  551.650100\n",
              "2      0.0  511.366708  511.366708\n",
              "3      0.0  518.127883  518.127883\n",
              "4      0.0  547.624043  547.624043\n",
              "..     ...         ...         ...\n",
              "195    0.0  465.999806  465.999806\n",
              "196    0.0  521.774457  521.774457\n",
              "197    0.0  625.079386  625.079386\n",
              "198    0.0  396.928769  396.928769\n",
              "199    0.0  373.061907  373.061907\n",
              "\n",
              "[200 rows x 3 columns]"
            ]
          },
          "metadata": {},
          "execution_count": 19
        }
      ]
    },
    {
      "cell_type": "code",
      "source": [
        "result.sum()"
      ],
      "metadata": {
        "colab": {
          "base_uri": "https://localhost:8080/"
        },
        "id": "beF6UkXLOH9w",
        "outputId": "a53a2573-6eeb-4e5a-ab71-5e0e0efd7b91"
      },
      "execution_count": 20,
      "outputs": [
        {
          "output_type": "execute_result",
          "data": {
            "text/plain": [
              "ypred        0.000000\n",
              "ytest    99542.977972\n",
              "error    99542.977972\n",
              "dtype: float64"
            ]
          },
          "metadata": {},
          "execution_count": 20
        }
      ]
    },
    {
      "cell_type": "code",
      "source": [
        ""
      ],
      "metadata": {
        "id": "dq9su36bOXaV"
      },
      "execution_count": 20,
      "outputs": []
    },
    {
      "cell_type": "code",
      "source": [
        "###Squared error to remove negative values of error sum\n",
        "\n",
        "result[\"error\"]=result[\"error\"]*result[\"error\"]\n",
        "result.sum()"
      ],
      "metadata": {
        "colab": {
          "base_uri": "https://localhost:8080/"
        },
        "id": "1Z2HaDJoOU1t",
        "outputId": "bc4fb14e-b741-4004-f0dd-c11974d74be0"
      },
      "execution_count": 21,
      "outputs": [
        {
          "output_type": "execute_result",
          "data": {
            "text/plain": [
              "ypred    0.000000e+00\n",
              "ytest    9.954298e+04\n",
              "error    5.141983e+07\n",
              "dtype: float64"
            ]
          },
          "metadata": {},
          "execution_count": 21
        }
      ]
    },
    {
      "cell_type": "code",
      "source": [
        "###Save ANN model\n",
        "import tensorflow\n",
        "tensorflow.keras.models.save_model(model,\"reg_model.h5\")"
      ],
      "metadata": {
        "id": "YjOvG3pTP0Gh"
      },
      "execution_count": 22,
      "outputs": []
    },
    {
      "cell_type": "code",
      "source": [
        "###Load/reuse the saved model\n",
        "loaded_model=tensorflow.keras.models.load_model(\"reg_model.h5\",compile=False)"
      ],
      "metadata": {
        "id": "a75gaCj6QISh"
      },
      "execution_count": 23,
      "outputs": []
    },
    {
      "cell_type": "code",
      "source": [
        "normalizedInput=scaler.transform([[999.787558,999.766806]])"
      ],
      "metadata": {
        "id": "jrOrAG2wQZvu"
      },
      "execution_count": 24,
      "outputs": []
    },
    {
      "cell_type": "code",
      "source": [
        "normalizedInput"
      ],
      "metadata": {
        "colab": {
          "base_uri": "https://localhost:8080/"
        },
        "id": "ebGdPhGHRNAs",
        "outputId": "e69610c9-78e3-4889-a2e8-876045a387f2"
      },
      "execution_count": 25,
      "outputs": [
        {
          "output_type": "execute_result",
          "data": {
            "text/plain": [
              "array([[0.44380396, 0.48868327]])"
            ]
          },
          "metadata": {},
          "execution_count": 25
        }
      ]
    },
    {
      "cell_type": "code",
      "source": [
        "loaded_model.predict(normalizedInput)"
      ],
      "metadata": {
        "colab": {
          "base_uri": "https://localhost:8080/"
        },
        "id": "7hNCJO1qQo5n",
        "outputId": "fada63c5-546a-4fa7-e148-23983a60ab00"
      },
      "execution_count": 26,
      "outputs": [
        {
          "output_type": "execute_result",
          "data": {
            "text/plain": [
              "array([[0.]], dtype=float32)"
            ]
          },
          "metadata": {},
          "execution_count": 26
        }
      ]
    },
    {
      "cell_type": "code",
      "source": [
        ""
      ],
      "metadata": {
        "id": "lKM8X8rqSEUz"
      },
      "execution_count": null,
      "outputs": []
    },
    {
      "cell_type": "code",
      "source": [
        ""
      ],
      "metadata": {
        "id": "IZFoFn7mSG90"
      },
      "execution_count": null,
      "outputs": []
    }
  ]
}